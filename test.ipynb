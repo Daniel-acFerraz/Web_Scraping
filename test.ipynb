{
 "cells": [
  {
   "cell_type": "code",
   "execution_count": 32,
   "metadata": {},
   "outputs": [],
   "source": [
    "from bs4 import BeautifulSoup\n",
    "import requests\n",
    "import re\n",
    "import pandas as pd"
   ]
  },
  {
   "cell_type": "code",
   "execution_count": 33,
   "metadata": {},
   "outputs": [],
   "source": [
    "url = 'https://books.toscrape.com/'\n",
    "headers = {'User-Agent': 'Mozilla/5.0 (Windows NT 10.0; Win64; x64) AppleWebKit/537.36 (KHTML, like Gecko) Chrome/129.0.0.0 Safari/537.36'}\n",
    "page = requests.get(url, headers = headers)\n",
    "soup = BeautifulSoup(page.text, 'html.parser')\n"
   ]
  },
  {
   "cell_type": "code",
   "execution_count": 34,
   "metadata": {},
   "outputs": [
    {
     "name": "stdout",
     "output_type": "stream",
     "text": [
      "['A Light in the Attic', 'Tipping the Velvet', 'Soumission', 'Sharp Objects', 'Sapiens: A Brief History of Humankind', 'The Requiem Red', 'The Dirty Little Secrets of Getting Your Dream Job', 'The Coming Woman: A Novel Based on the Life of the Infamous Feminist, Victoria Woodhull', 'The Boys in the Boat: Nine Americans and Their Epic Quest for Gold at the 1936 Berlin Olympics', 'The Black Maria', 'Starving Hearts (Triangular Trade Trilogy, #1)', \"Shakespeare's Sonnets\", 'Set Me Free', \"Scott Pilgrim's Precious Little Life (Scott Pilgrim #1)\", 'Rip it Up and Start Again', 'Our Band Could Be Your Life: Scenes from the American Indie Underground, 1981-1991', 'Olio', 'Mesaerion: The Best Science Fiction Stories 1800-1849', 'Libertarianism for Beginners', \"It's Only the Himalayas\"]\n"
     ]
    }
   ],
   "source": [
    "titlesoup = soup.find_all('a')\n",
    "titlelist = [title.get('title') for i, title in enumerate(titlesoup) if i >= 54 and i % 2 == 0]\n",
    "print(titlelist)"
   ]
  },
  {
   "cell_type": "code",
   "execution_count": 38,
   "metadata": {},
   "outputs": [
    {
     "name": "stdout",
     "output_type": "stream",
     "text": [
      "['51.77', '53.74', '50.10', '47.82', '54.23', '22.65', '33.34', '17.93', '22.60', '52.15', '13.99', '20.66', '17.46', '52.29', '35.02', '57.25', '23.88', '37.59', '51.33', '45.17']\n"
     ]
    }
   ],
   "source": [
    "pricesoup = soup.find_all('p', class_ = 'price_color')\n",
    "pricelist = [price.string.replace('Â£', '') for price in pricesoup]\n",
    "print(pricelist)"
   ]
  },
  {
   "cell_type": "code",
   "execution_count": 47,
   "metadata": {},
   "outputs": [
    {
     "name": "stdout",
     "output_type": "stream",
     "text": [
      "['In stock', 'In stock', 'In stock', 'In stock', 'In stock', 'In stock', 'In stock', 'In stock', 'In stock', 'In stock', 'In stock', 'In stock', 'In stock', 'In stock', 'In stock', 'In stock', 'In stock', 'In stock', 'In stock', 'In stock']\n"
     ]
    }
   ],
   "source": [
    "stocksoup = soup.find_all('p', class_ = 'instock availability')\n",
    "stocklist = [stock.text.replace('\\n\\n    \\n        ', '').replace('\\n    \\n', '') for stock in stocksoup]\n",
    "print(stocklist)"
   ]
  },
  {
   "cell_type": "code",
   "execution_count": 48,
   "metadata": {},
   "outputs": [
    {
     "name": "stdout",
     "output_type": "stream",
     "text": [
      "                                                Title  Price Availability\n",
      "0                                A Light in the Attic  51.77     In stock\n",
      "1                                  Tipping the Velvet  53.74     In stock\n",
      "2                                          Soumission  50.10     In stock\n",
      "3                                       Sharp Objects  47.82     In stock\n",
      "4               Sapiens: A Brief History of Humankind  54.23     In stock\n",
      "5                                     The Requiem Red  22.65     In stock\n",
      "6   The Dirty Little Secrets of Getting Your Dream...  33.34     In stock\n",
      "7   The Coming Woman: A Novel Based on the Life of...  17.93     In stock\n",
      "8   The Boys in the Boat: Nine Americans and Their...  22.60     In stock\n",
      "9                                     The Black Maria  52.15     In stock\n",
      "10     Starving Hearts (Triangular Trade Trilogy, #1)  13.99     In stock\n",
      "11                              Shakespeare's Sonnets  20.66     In stock\n",
      "12                                        Set Me Free  17.46     In stock\n",
      "13  Scott Pilgrim's Precious Little Life (Scott Pi...  52.29     In stock\n",
      "14                          Rip it Up and Start Again  35.02     In stock\n",
      "15  Our Band Could Be Your Life: Scenes from the A...  57.25     In stock\n",
      "16                                               Olio  23.88     In stock\n",
      "17  Mesaerion: The Best Science Fiction Stories 18...  37.59     In stock\n",
      "18                       Libertarianism for Beginners  51.33     In stock\n",
      "19                            It's Only the Himalayas  45.17     In stock\n"
     ]
    }
   ],
   "source": [
    "dictDF = {'Title': titlelist,\n",
    "          'Price': pricelist,\n",
    "          'Availability': stocklist}\n",
    "\n",
    "bookDF = pd.DataFrame(dictDF)\n",
    "print(bookDF)"
   ]
  }
 ],
 "metadata": {
  "kernelspec": {
   "display_name": "virtual",
   "language": "python",
   "name": "python3"
  },
  "language_info": {
   "codemirror_mode": {
    "name": "ipython",
    "version": 3
   },
   "file_extension": ".py",
   "mimetype": "text/x-python",
   "name": "python",
   "nbconvert_exporter": "python",
   "pygments_lexer": "ipython3",
   "version": "3.12.6"
  }
 },
 "nbformat": 4,
 "nbformat_minor": 2
}
